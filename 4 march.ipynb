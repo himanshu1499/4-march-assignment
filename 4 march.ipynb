{
 "cells": [
  {
   "cell_type": "code",
   "execution_count": 1,
   "id": "dad286b6-57fc-4509-8500-82251e173a40",
   "metadata": {},
   "outputs": [],
   "source": [
    "#q1"
   ]
  },
  {
   "cell_type": "code",
   "execution_count": null,
   "id": "98a739ae-4358-4aa1-af9d-a245ad5fe14f",
   "metadata": {},
   "outputs": [],
   "source": [
    "import seaborn as sns\n",
    "import plotly.express as px\n",
    "\n",
    "# Load the \"titanic\" dataset\n",
    "titanic_df = sns.load_dataset('titanic')\n",
    "\n",
    "# Create a scatter plot for \"age\" and \"fare\" columns using Plotly express\n",
    "scatter_plot = px.scatter(titanic_df, x=\"age\", y=\"fare\", title=\"Titanic Dataset: Age vs Fare\")\n",
    "\n",
    "# Show the scatter plot\n",
    "scatter_plot.show()\n"
   ]
  },
  {
   "cell_type": "code",
   "execution_count": 6,
   "id": "49286284-b931-4ab7-8b11-23459e038444",
   "metadata": {},
   "outputs": [],
   "source": [
    "#q2"
   ]
  },
  {
   "cell_type": "code",
   "execution_count": null,
   "id": "f1076052-7724-496c-bab8-870ef18af930",
   "metadata": {},
   "outputs": [],
   "source": [
    "import plotly.express as px\n",
    "from plotly.subplots import make_subplots\n",
    "import plotly.graph_objs as go\n",
    "\n",
    "# Load the tips dataset\n",
    "tips_df = px.data.tips()\n",
    "\n",
    "# Create a box plot using Plotly express\n",
    "fig = px.box(tips_df, x=\"day\", y=\"total_bill\", color=\"smoker\")\n",
    "\n",
    "# Set the title of the plot\n",
    "fig.update_layout(title=\"Box Plot of Total Bill by Day and Smoker Status\")\n",
    "\n",
    "# Show the plot\n",
    "fig.show()\n"
   ]
  },
  {
   "cell_type": "code",
   "execution_count": 8,
   "id": "5244dff4-d601-4b7d-a9e0-51e7e7a52e6c",
   "metadata": {},
   "outputs": [],
   "source": [
    "#q3"
   ]
  },
  {
   "cell_type": "code",
   "execution_count": null,
   "id": "dd97d0b3-519f-4365-9906-897194f42c31",
   "metadata": {},
   "outputs": [],
   "source": [
    "import plotly.express as px\n",
    "\n",
    "# Load the tips dataset\n",
    "tips_df = px.data.tips()\n",
    "\n",
    "# Create a histogram using Plotly express\n",
    "fig = px.histogram(tips_df, x=\"sex\", y=\"total_bill\", color=\"day\", pattern_shape=\"smoker\",\n",
    "                   marginal=\"rug\", barmode=\"overlay\")\n",
    "\n",
    "# Set the title of the plot\n",
    "fig.update_layout(title=\"Histogram of Total Bill by Sex, Day, and Smoker Status\")\n",
    "\n",
    "# Show the plot\n",
    "fig.show()\n"
   ]
  },
  {
   "cell_type": "code",
   "execution_count": 9,
   "id": "b8cc5527-129e-4561-902e-541106cac54f",
   "metadata": {},
   "outputs": [],
   "source": [
    "#q4"
   ]
  },
  {
   "cell_type": "code",
   "execution_count": null,
   "id": "c553914b-885b-43d2-804b-d9a6df8947df",
   "metadata": {},
   "outputs": [],
   "source": [
    "import plotly.express as px\n",
    "\n",
    "# Load the iris dataset\n",
    "iris_df = px.data.iris()\n",
    "\n",
    "# Create a scatter matrix plot using Plotly express\n",
    "fig = px.scatter_matrix(iris_df, dimensions=[\"sepal_length\", \"sepal_width\", \"petal_length\", \"petal_width\"],\n",
    "                        color=\"species\")\n",
    "\n",
    "# Set the title of the plot\n",
    "fig.update_layout(title=\"Scatter Matrix Plot of Iris Dataset\")\n",
    "\n",
    "# Show the plot\n",
    "fig.show()\n"
   ]
  },
  {
   "cell_type": "code",
   "execution_count": 10,
   "id": "ab3581c0-66e6-481f-8045-d5eaac8f277e",
   "metadata": {},
   "outputs": [],
   "source": [
    "#q5"
   ]
  },
  {
   "cell_type": "code",
   "execution_count": null,
   "id": "2bf13116-cb5b-4634-bf54-6bfdb9c97b5e",
   "metadata": {},
   "outputs": [],
   "source": [
    "Distplot (short for distribution plot) is a type of plot used in data visualization that combines a histogram and a kernel density estimate plot. \n",
    "It is used to visualize the distribution of a univariate dataset."
   ]
  },
  {
   "cell_type": "code",
   "execution_count": null,
   "id": "045fdb2c-df34-4980-b403-032c0606f2ba",
   "metadata": {},
   "outputs": [],
   "source": [
    "import plotly.express as px\n",
    "\n",
    "# Load the tips dataset\n",
    "tips_df = px.data.tips()\n",
    "\n",
    "# Create a distplot using Plotly express\n",
    "fig = px.histogram(tips_df, x=\"total_bill\", nbins=30, opacity=0.7, color_discrete_sequence=['indianred'])\n",
    "\n",
    "# Add a KDE plot to the distplot\n",
    "fig.update_traces(histnorm='probability density', kde=True)\n",
    "\n",
    "# Set the title and labels of the plot\n",
    "fig.update_layout(title=\"Distribution of Total Bill\", xaxis_title=\"Total Bill\", yaxis_title=\"Probability Density\")\n",
    "\n",
    "# Show the plot\n",
    "fig.show()\n"
   ]
  }
 ],
 "metadata": {
  "kernelspec": {
   "display_name": "Python 3 (ipykernel)",
   "language": "python",
   "name": "python3"
  },
  "language_info": {
   "codemirror_mode": {
    "name": "ipython",
    "version": 3
   },
   "file_extension": ".py",
   "mimetype": "text/x-python",
   "name": "python",
   "nbconvert_exporter": "python",
   "pygments_lexer": "ipython3",
   "version": "3.10.6"
  }
 },
 "nbformat": 4,
 "nbformat_minor": 5
}
